{
 "cells": [
  {
   "cell_type": "code",
   "execution_count": 114,
   "metadata": {},
   "outputs": [],
   "source": [
    "import pandas as pd\n",
    "import statsmodels.formula.api as smf\n",
    "import seaborn as sns\n",
    "import matplotlib.pyplot as plt\n",
    "import numpy as np\n",
    "sns.set_context('notebook')\n",
    "\n",
    "facebook = pd.read_csv('DATA/dataset_Facebook.csv', delimiter=\";\")\n"
   ]
  },
  {
   "cell_type": "code",
   "execution_count": 4,
   "metadata": {},
   "outputs": [
    {
     "name": "stdout",
     "output_type": "stream",
     "text": [
      "<class 'pandas.core.frame.DataFrame'>\n",
      "RangeIndex: 500 entries, 0 to 499\n",
      "Data columns (total 19 columns):\n",
      "Page total likes                                                       500 non-null int64\n",
      "Type                                                                   500 non-null object\n",
      "Category                                                               500 non-null int64\n",
      "Post Month                                                             500 non-null int64\n",
      "Post Weekday                                                           500 non-null int64\n",
      "Post Hour                                                              500 non-null int64\n",
      "Paid                                                                   499 non-null float64\n",
      "Lifetime Post Total Reach                                              500 non-null int64\n",
      "Lifetime Post Total Impressions                                        500 non-null int64\n",
      "Lifetime Engaged Users                                                 500 non-null int64\n",
      "Lifetime Post Consumers                                                500 non-null int64\n",
      "Lifetime Post Consumptions                                             500 non-null int64\n",
      "Lifetime Post Impressions by people who have liked your Page           500 non-null int64\n",
      "Lifetime Post reach by people who like your Page                       500 non-null int64\n",
      "Lifetime People who have liked your Page and engaged with your post    500 non-null int64\n",
      "comment                                                                500 non-null int64\n",
      "like                                                                   499 non-null float64\n",
      "share                                                                  496 non-null float64\n",
      "Total Interactions                                                     500 non-null int64\n",
      "dtypes: float64(3), int64(15), object(1)\n",
      "memory usage: 74.3+ KB\n"
     ]
    }
   ],
   "source": [
    "facebook.info()"
   ]
  },
  {
   "cell_type": "code",
   "execution_count": 5,
   "metadata": {},
   "outputs": [
    {
     "data": {
      "text/html": [
       "<div>\n",
       "<style scoped>\n",
       "    .dataframe tbody tr th:only-of-type {\n",
       "        vertical-align: middle;\n",
       "    }\n",
       "\n",
       "    .dataframe tbody tr th {\n",
       "        vertical-align: top;\n",
       "    }\n",
       "\n",
       "    .dataframe thead th {\n",
       "        text-align: right;\n",
       "    }\n",
       "</style>\n",
       "<table border=\"1\" class=\"dataframe\">\n",
       "  <thead>\n",
       "    <tr style=\"text-align: right;\">\n",
       "      <th></th>\n",
       "      <th>Page total likes</th>\n",
       "      <th>Category</th>\n",
       "      <th>Post Month</th>\n",
       "      <th>Post Weekday</th>\n",
       "      <th>Post Hour</th>\n",
       "      <th>Paid</th>\n",
       "      <th>Lifetime Post Total Reach</th>\n",
       "      <th>Lifetime Post Total Impressions</th>\n",
       "      <th>Lifetime Engaged Users</th>\n",
       "      <th>Lifetime Post Consumers</th>\n",
       "      <th>Lifetime Post Consumptions</th>\n",
       "      <th>Lifetime Post Impressions by people who have liked your Page</th>\n",
       "      <th>Lifetime Post reach by people who like your Page</th>\n",
       "      <th>Lifetime People who have liked your Page and engaged with your post</th>\n",
       "      <th>comment</th>\n",
       "      <th>like</th>\n",
       "      <th>share</th>\n",
       "      <th>Total Interactions</th>\n",
       "    </tr>\n",
       "  </thead>\n",
       "  <tbody>\n",
       "    <tr>\n",
       "      <td>count</td>\n",
       "      <td>500.000000</td>\n",
       "      <td>500.000000</td>\n",
       "      <td>500.000000</td>\n",
       "      <td>500.000000</td>\n",
       "      <td>500.000000</td>\n",
       "      <td>499.000000</td>\n",
       "      <td>500.00000</td>\n",
       "      <td>5.000000e+02</td>\n",
       "      <td>500.000000</td>\n",
       "      <td>500.000000</td>\n",
       "      <td>500.000000</td>\n",
       "      <td>5.000000e+02</td>\n",
       "      <td>500.000000</td>\n",
       "      <td>500.000000</td>\n",
       "      <td>500.00000</td>\n",
       "      <td>499.000000</td>\n",
       "      <td>496.000000</td>\n",
       "      <td>500.000000</td>\n",
       "    </tr>\n",
       "    <tr>\n",
       "      <td>mean</td>\n",
       "      <td>123194.176000</td>\n",
       "      <td>1.880000</td>\n",
       "      <td>7.038000</td>\n",
       "      <td>4.150000</td>\n",
       "      <td>7.840000</td>\n",
       "      <td>0.278557</td>\n",
       "      <td>13903.36000</td>\n",
       "      <td>2.958595e+04</td>\n",
       "      <td>920.344000</td>\n",
       "      <td>798.772000</td>\n",
       "      <td>1415.130000</td>\n",
       "      <td>1.676638e+04</td>\n",
       "      <td>6585.488000</td>\n",
       "      <td>609.986000</td>\n",
       "      <td>7.48200</td>\n",
       "      <td>177.945892</td>\n",
       "      <td>27.266129</td>\n",
       "      <td>212.120000</td>\n",
       "    </tr>\n",
       "    <tr>\n",
       "      <td>std</td>\n",
       "      <td>16272.813214</td>\n",
       "      <td>0.852675</td>\n",
       "      <td>3.307936</td>\n",
       "      <td>2.030701</td>\n",
       "      <td>4.368589</td>\n",
       "      <td>0.448739</td>\n",
       "      <td>22740.78789</td>\n",
       "      <td>7.680325e+04</td>\n",
       "      <td>985.016636</td>\n",
       "      <td>882.505013</td>\n",
       "      <td>2000.594118</td>\n",
       "      <td>5.979102e+04</td>\n",
       "      <td>7682.009405</td>\n",
       "      <td>612.725618</td>\n",
       "      <td>21.18091</td>\n",
       "      <td>323.398742</td>\n",
       "      <td>42.613292</td>\n",
       "      <td>380.233118</td>\n",
       "    </tr>\n",
       "    <tr>\n",
       "      <td>min</td>\n",
       "      <td>81370.000000</td>\n",
       "      <td>1.000000</td>\n",
       "      <td>1.000000</td>\n",
       "      <td>1.000000</td>\n",
       "      <td>1.000000</td>\n",
       "      <td>0.000000</td>\n",
       "      <td>238.00000</td>\n",
       "      <td>5.700000e+02</td>\n",
       "      <td>9.000000</td>\n",
       "      <td>9.000000</td>\n",
       "      <td>9.000000</td>\n",
       "      <td>5.670000e+02</td>\n",
       "      <td>236.000000</td>\n",
       "      <td>9.000000</td>\n",
       "      <td>0.00000</td>\n",
       "      <td>0.000000</td>\n",
       "      <td>0.000000</td>\n",
       "      <td>0.000000</td>\n",
       "    </tr>\n",
       "    <tr>\n",
       "      <td>25%</td>\n",
       "      <td>112676.000000</td>\n",
       "      <td>1.000000</td>\n",
       "      <td>4.000000</td>\n",
       "      <td>2.000000</td>\n",
       "      <td>3.000000</td>\n",
       "      <td>0.000000</td>\n",
       "      <td>3315.00000</td>\n",
       "      <td>5.694750e+03</td>\n",
       "      <td>393.750000</td>\n",
       "      <td>332.500000</td>\n",
       "      <td>509.250000</td>\n",
       "      <td>3.969750e+03</td>\n",
       "      <td>2181.500000</td>\n",
       "      <td>291.000000</td>\n",
       "      <td>1.00000</td>\n",
       "      <td>56.500000</td>\n",
       "      <td>10.000000</td>\n",
       "      <td>71.000000</td>\n",
       "    </tr>\n",
       "    <tr>\n",
       "      <td>50%</td>\n",
       "      <td>129600.000000</td>\n",
       "      <td>2.000000</td>\n",
       "      <td>7.000000</td>\n",
       "      <td>4.000000</td>\n",
       "      <td>9.000000</td>\n",
       "      <td>0.000000</td>\n",
       "      <td>5281.00000</td>\n",
       "      <td>9.051000e+03</td>\n",
       "      <td>625.500000</td>\n",
       "      <td>551.500000</td>\n",
       "      <td>851.000000</td>\n",
       "      <td>6.255500e+03</td>\n",
       "      <td>3417.000000</td>\n",
       "      <td>412.000000</td>\n",
       "      <td>3.00000</td>\n",
       "      <td>101.000000</td>\n",
       "      <td>19.000000</td>\n",
       "      <td>123.500000</td>\n",
       "    </tr>\n",
       "    <tr>\n",
       "      <td>75%</td>\n",
       "      <td>136393.000000</td>\n",
       "      <td>3.000000</td>\n",
       "      <td>10.000000</td>\n",
       "      <td>6.000000</td>\n",
       "      <td>11.000000</td>\n",
       "      <td>1.000000</td>\n",
       "      <td>13168.00000</td>\n",
       "      <td>2.208550e+04</td>\n",
       "      <td>1062.000000</td>\n",
       "      <td>955.500000</td>\n",
       "      <td>1463.000000</td>\n",
       "      <td>1.486050e+04</td>\n",
       "      <td>7989.000000</td>\n",
       "      <td>656.250000</td>\n",
       "      <td>7.00000</td>\n",
       "      <td>187.500000</td>\n",
       "      <td>32.250000</td>\n",
       "      <td>228.500000</td>\n",
       "    </tr>\n",
       "    <tr>\n",
       "      <td>max</td>\n",
       "      <td>139441.000000</td>\n",
       "      <td>3.000000</td>\n",
       "      <td>12.000000</td>\n",
       "      <td>7.000000</td>\n",
       "      <td>23.000000</td>\n",
       "      <td>1.000000</td>\n",
       "      <td>180480.00000</td>\n",
       "      <td>1.110282e+06</td>\n",
       "      <td>11452.000000</td>\n",
       "      <td>11328.000000</td>\n",
       "      <td>19779.000000</td>\n",
       "      <td>1.107833e+06</td>\n",
       "      <td>51456.000000</td>\n",
       "      <td>4376.000000</td>\n",
       "      <td>372.00000</td>\n",
       "      <td>5172.000000</td>\n",
       "      <td>790.000000</td>\n",
       "      <td>6334.000000</td>\n",
       "    </tr>\n",
       "  </tbody>\n",
       "</table>\n",
       "</div>"
      ],
      "text/plain": [
       "       Page total likes    Category  Post Month  Post Weekday   Post Hour  \\\n",
       "count        500.000000  500.000000  500.000000    500.000000  500.000000   \n",
       "mean      123194.176000    1.880000    7.038000      4.150000    7.840000   \n",
       "std        16272.813214    0.852675    3.307936      2.030701    4.368589   \n",
       "min        81370.000000    1.000000    1.000000      1.000000    1.000000   \n",
       "25%       112676.000000    1.000000    4.000000      2.000000    3.000000   \n",
       "50%       129600.000000    2.000000    7.000000      4.000000    9.000000   \n",
       "75%       136393.000000    3.000000   10.000000      6.000000   11.000000   \n",
       "max       139441.000000    3.000000   12.000000      7.000000   23.000000   \n",
       "\n",
       "             Paid  Lifetime Post Total Reach  Lifetime Post Total Impressions  \\\n",
       "count  499.000000                  500.00000                     5.000000e+02   \n",
       "mean     0.278557                13903.36000                     2.958595e+04   \n",
       "std      0.448739                22740.78789                     7.680325e+04   \n",
       "min      0.000000                  238.00000                     5.700000e+02   \n",
       "25%      0.000000                 3315.00000                     5.694750e+03   \n",
       "50%      0.000000                 5281.00000                     9.051000e+03   \n",
       "75%      1.000000                13168.00000                     2.208550e+04   \n",
       "max      1.000000               180480.00000                     1.110282e+06   \n",
       "\n",
       "       Lifetime Engaged Users  Lifetime Post Consumers  \\\n",
       "count              500.000000               500.000000   \n",
       "mean               920.344000               798.772000   \n",
       "std                985.016636               882.505013   \n",
       "min                  9.000000                 9.000000   \n",
       "25%                393.750000               332.500000   \n",
       "50%                625.500000               551.500000   \n",
       "75%               1062.000000               955.500000   \n",
       "max              11452.000000             11328.000000   \n",
       "\n",
       "       Lifetime Post Consumptions  \\\n",
       "count                  500.000000   \n",
       "mean                  1415.130000   \n",
       "std                   2000.594118   \n",
       "min                      9.000000   \n",
       "25%                    509.250000   \n",
       "50%                    851.000000   \n",
       "75%                   1463.000000   \n",
       "max                  19779.000000   \n",
       "\n",
       "       Lifetime Post Impressions by people who have liked your Page  \\\n",
       "count                                       5.000000e+02              \n",
       "mean                                        1.676638e+04              \n",
       "std                                         5.979102e+04              \n",
       "min                                         5.670000e+02              \n",
       "25%                                         3.969750e+03              \n",
       "50%                                         6.255500e+03              \n",
       "75%                                         1.486050e+04              \n",
       "max                                         1.107833e+06              \n",
       "\n",
       "       Lifetime Post reach by people who like your Page  \\\n",
       "count                                        500.000000   \n",
       "mean                                        6585.488000   \n",
       "std                                         7682.009405   \n",
       "min                                          236.000000   \n",
       "25%                                         2181.500000   \n",
       "50%                                         3417.000000   \n",
       "75%                                         7989.000000   \n",
       "max                                        51456.000000   \n",
       "\n",
       "       Lifetime People who have liked your Page and engaged with your post  \\\n",
       "count                                         500.000000                     \n",
       "mean                                          609.986000                     \n",
       "std                                           612.725618                     \n",
       "min                                             9.000000                     \n",
       "25%                                           291.000000                     \n",
       "50%                                           412.000000                     \n",
       "75%                                           656.250000                     \n",
       "max                                          4376.000000                     \n",
       "\n",
       "         comment         like       share  Total Interactions  \n",
       "count  500.00000   499.000000  496.000000          500.000000  \n",
       "mean     7.48200   177.945892   27.266129          212.120000  \n",
       "std     21.18091   323.398742   42.613292          380.233118  \n",
       "min      0.00000     0.000000    0.000000            0.000000  \n",
       "25%      1.00000    56.500000   10.000000           71.000000  \n",
       "50%      3.00000   101.000000   19.000000          123.500000  \n",
       "75%      7.00000   187.500000   32.250000          228.500000  \n",
       "max    372.00000  5172.000000  790.000000         6334.000000  "
      ]
     },
     "execution_count": 5,
     "metadata": {},
     "output_type": "execute_result"
    }
   ],
   "source": [
    "facebook.describe()"
   ]
  },
  {
   "cell_type": "code",
   "execution_count": 3,
   "metadata": {},
   "outputs": [
    {
     "data": {
      "text/html": [
       "<div>\n",
       "<style scoped>\n",
       "    .dataframe tbody tr th:only-of-type {\n",
       "        vertical-align: middle;\n",
       "    }\n",
       "\n",
       "    .dataframe tbody tr th {\n",
       "        vertical-align: top;\n",
       "    }\n",
       "\n",
       "    .dataframe thead th {\n",
       "        text-align: right;\n",
       "    }\n",
       "</style>\n",
       "<table border=\"1\" class=\"dataframe\">\n",
       "  <thead>\n",
       "    <tr style=\"text-align: right;\">\n",
       "      <th></th>\n",
       "      <th>Page total likes</th>\n",
       "      <th>Type</th>\n",
       "      <th>Category</th>\n",
       "      <th>Post Month</th>\n",
       "      <th>Post Weekday</th>\n",
       "      <th>Post Hour</th>\n",
       "      <th>Paid</th>\n",
       "      <th>Lifetime Post Total Reach</th>\n",
       "      <th>Lifetime Post Total Impressions</th>\n",
       "      <th>Lifetime Engaged Users</th>\n",
       "      <th>Lifetime Post Consumers</th>\n",
       "      <th>Lifetime Post Consumptions</th>\n",
       "      <th>Lifetime Post Impressions by people who have liked your Page</th>\n",
       "      <th>Lifetime Post reach by people who like your Page</th>\n",
       "      <th>Lifetime People who have liked your Page and engaged with your post</th>\n",
       "      <th>comment</th>\n",
       "      <th>like</th>\n",
       "      <th>share</th>\n",
       "      <th>Total Interactions</th>\n",
       "    </tr>\n",
       "  </thead>\n",
       "  <tbody>\n",
       "    <tr>\n",
       "      <td>0</td>\n",
       "      <td>139441</td>\n",
       "      <td>Photo</td>\n",
       "      <td>2</td>\n",
       "      <td>12</td>\n",
       "      <td>4</td>\n",
       "      <td>3</td>\n",
       "      <td>0.0</td>\n",
       "      <td>2752</td>\n",
       "      <td>5091</td>\n",
       "      <td>178</td>\n",
       "      <td>109</td>\n",
       "      <td>159</td>\n",
       "      <td>3078</td>\n",
       "      <td>1640</td>\n",
       "      <td>119</td>\n",
       "      <td>4</td>\n",
       "      <td>79.0</td>\n",
       "      <td>17.0</td>\n",
       "      <td>100</td>\n",
       "    </tr>\n",
       "    <tr>\n",
       "      <td>1</td>\n",
       "      <td>139441</td>\n",
       "      <td>Status</td>\n",
       "      <td>2</td>\n",
       "      <td>12</td>\n",
       "      <td>3</td>\n",
       "      <td>10</td>\n",
       "      <td>0.0</td>\n",
       "      <td>10460</td>\n",
       "      <td>19057</td>\n",
       "      <td>1457</td>\n",
       "      <td>1361</td>\n",
       "      <td>1674</td>\n",
       "      <td>11710</td>\n",
       "      <td>6112</td>\n",
       "      <td>1108</td>\n",
       "      <td>5</td>\n",
       "      <td>130.0</td>\n",
       "      <td>29.0</td>\n",
       "      <td>164</td>\n",
       "    </tr>\n",
       "    <tr>\n",
       "      <td>2</td>\n",
       "      <td>139441</td>\n",
       "      <td>Photo</td>\n",
       "      <td>3</td>\n",
       "      <td>12</td>\n",
       "      <td>3</td>\n",
       "      <td>3</td>\n",
       "      <td>0.0</td>\n",
       "      <td>2413</td>\n",
       "      <td>4373</td>\n",
       "      <td>177</td>\n",
       "      <td>113</td>\n",
       "      <td>154</td>\n",
       "      <td>2812</td>\n",
       "      <td>1503</td>\n",
       "      <td>132</td>\n",
       "      <td>0</td>\n",
       "      <td>66.0</td>\n",
       "      <td>14.0</td>\n",
       "      <td>80</td>\n",
       "    </tr>\n",
       "    <tr>\n",
       "      <td>3</td>\n",
       "      <td>139441</td>\n",
       "      <td>Photo</td>\n",
       "      <td>2</td>\n",
       "      <td>12</td>\n",
       "      <td>2</td>\n",
       "      <td>10</td>\n",
       "      <td>1.0</td>\n",
       "      <td>50128</td>\n",
       "      <td>87991</td>\n",
       "      <td>2211</td>\n",
       "      <td>790</td>\n",
       "      <td>1119</td>\n",
       "      <td>61027</td>\n",
       "      <td>32048</td>\n",
       "      <td>1386</td>\n",
       "      <td>58</td>\n",
       "      <td>1572.0</td>\n",
       "      <td>147.0</td>\n",
       "      <td>1777</td>\n",
       "    </tr>\n",
       "    <tr>\n",
       "      <td>4</td>\n",
       "      <td>139441</td>\n",
       "      <td>Photo</td>\n",
       "      <td>2</td>\n",
       "      <td>12</td>\n",
       "      <td>2</td>\n",
       "      <td>3</td>\n",
       "      <td>0.0</td>\n",
       "      <td>7244</td>\n",
       "      <td>13594</td>\n",
       "      <td>671</td>\n",
       "      <td>410</td>\n",
       "      <td>580</td>\n",
       "      <td>6228</td>\n",
       "      <td>3200</td>\n",
       "      <td>396</td>\n",
       "      <td>19</td>\n",
       "      <td>325.0</td>\n",
       "      <td>49.0</td>\n",
       "      <td>393</td>\n",
       "    </tr>\n",
       "  </tbody>\n",
       "</table>\n",
       "</div>"
      ],
      "text/plain": [
       "   Page total likes    Type  Category  Post Month  Post Weekday  Post Hour  \\\n",
       "0            139441   Photo         2          12             4          3   \n",
       "1            139441  Status         2          12             3         10   \n",
       "2            139441   Photo         3          12             3          3   \n",
       "3            139441   Photo         2          12             2         10   \n",
       "4            139441   Photo         2          12             2          3   \n",
       "\n",
       "   Paid  Lifetime Post Total Reach  Lifetime Post Total Impressions  \\\n",
       "0   0.0                       2752                             5091   \n",
       "1   0.0                      10460                            19057   \n",
       "2   0.0                       2413                             4373   \n",
       "3   1.0                      50128                            87991   \n",
       "4   0.0                       7244                            13594   \n",
       "\n",
       "   Lifetime Engaged Users  Lifetime Post Consumers  \\\n",
       "0                     178                      109   \n",
       "1                    1457                     1361   \n",
       "2                     177                      113   \n",
       "3                    2211                      790   \n",
       "4                     671                      410   \n",
       "\n",
       "   Lifetime Post Consumptions  \\\n",
       "0                         159   \n",
       "1                        1674   \n",
       "2                         154   \n",
       "3                        1119   \n",
       "4                         580   \n",
       "\n",
       "   Lifetime Post Impressions by people who have liked your Page  \\\n",
       "0                                               3078              \n",
       "1                                              11710              \n",
       "2                                               2812              \n",
       "3                                              61027              \n",
       "4                                               6228              \n",
       "\n",
       "   Lifetime Post reach by people who like your Page  \\\n",
       "0                                              1640   \n",
       "1                                              6112   \n",
       "2                                              1503   \n",
       "3                                             32048   \n",
       "4                                              3200   \n",
       "\n",
       "   Lifetime People who have liked your Page and engaged with your post  \\\n",
       "0                                                119                     \n",
       "1                                               1108                     \n",
       "2                                                132                     \n",
       "3                                               1386                     \n",
       "4                                                396                     \n",
       "\n",
       "   comment    like  share  Total Interactions  \n",
       "0        4    79.0   17.0                 100  \n",
       "1        5   130.0   29.0                 164  \n",
       "2        0    66.0   14.0                  80  \n",
       "3       58  1572.0  147.0                1777  \n",
       "4       19   325.0   49.0                 393  "
      ]
     },
     "execution_count": 3,
     "metadata": {},
     "output_type": "execute_result"
    }
   ],
   "source": [
    "facebook.head()"
   ]
  },
  {
   "cell_type": "code",
   "execution_count": 41,
   "metadata": {},
   "outputs": [
    {
     "data": {
      "text/plain": [
       "-254"
      ]
     },
     "execution_count": 41,
     "metadata": {},
     "output_type": "execute_result"
    }
   ],
   "source": [
    "\n"
   ]
  },
  {
   "cell_type": "code",
   "execution_count": 4,
   "metadata": {},
   "outputs": [
    {
     "data": {
      "text/plain": [
       "Index(['Page total likes', 'Type', 'Category', 'Post Month', 'Post Weekday',\n",
       "       'Post Hour', 'Paid', 'Lifetime Post Total Reach',\n",
       "       'Lifetime Post Total Impressions', 'Lifetime Engaged Users',\n",
       "       'Lifetime Post Consumers', 'Lifetime Post Consumptions',\n",
       "       'Lifetime Post Impressions by people who have liked your Page',\n",
       "       'Lifetime Post reach by people who like your Page',\n",
       "       'Lifetime People who have liked your Page and engaged with your post',\n",
       "       'comment', 'like', 'share', 'Total Interactions'],\n",
       "      dtype='object')"
      ]
     },
     "execution_count": 4,
     "metadata": {},
     "output_type": "execute_result"
    }
   ],
   "source": [
    "facebook.columns"
   ]
  },
  {
   "cell_type": "code",
   "execution_count": 95,
   "metadata": {},
   "outputs": [
    {
     "data": {
      "text/plain": [
       "<matplotlib.axes._subplots.AxesSubplot at 0x1aff86e5c8>"
      ]
     },
     "execution_count": 95,
     "metadata": {},
     "output_type": "execute_result"
    },
    {
     "data": {
      "image/png": "[encoded data removed]",
      "text/plain": [
       "<Figure size 432x288 with 1 Axes>"
      ]
     },
     "metadata": {
      "needs_background": "light"
     },
     "output_type": "display_data"
    }
   ],
   "source": [
    "sns.lineplot('Post Month','Page total likes', data=facebook, ci=False, color='r')\n",
    "# sns.distplot(facebook['Page total likes'], hist_kws={'cumulative':True} )"
   ]
  },
  {
   "cell_type": "code",
   "execution_count": 135,
   "metadata": {},
   "outputs": [
    {
     "data": {
      "text/html": [
       "<div>\n",
       "<style scoped>\n",
       "    .dataframe tbody tr th:only-of-type {\n",
       "        vertical-align: middle;\n",
       "    }\n",
       "\n",
       "    .dataframe tbody tr th {\n",
       "        vertical-align: top;\n",
       "    }\n",
       "\n",
       "    .dataframe thead th {\n",
       "        text-align: right;\n",
       "    }\n",
       "</style>\n",
       "<table border=\"1\" class=\"dataframe\">\n",
       "  <thead>\n",
       "    <tr style=\"text-align: right;\">\n",
       "      <th></th>\n",
       "      <th>Lifetime Post Total Reach</th>\n",
       "      <th>Lifetime Post Consumptions</th>\n",
       "      <th>Lifetime Post Total Impressions</th>\n",
       "      <th>Lifetime Engaged Users</th>\n",
       "      <th>Lifetime Post Consumers</th>\n",
       "      <th>Lifetime Post Consumptions</th>\n",
       "      <th>Lifetime Post Impressions by people who have liked your Page</th>\n",
       "      <th>Lifetime Post reach by people who like your Page</th>\n",
       "      <th>Lifetime People who have liked your Page and engaged with your post</th>\n",
       "      <th>comment</th>\n",
       "      <th>like</th>\n",
       "      <th>share</th>\n",
       "      <th>Total Interactions</th>\n",
       "    </tr>\n",
       "  </thead>\n",
       "  <tbody>\n",
       "    <tr>\n",
       "      <td>Lifetime Post Total Reach</td>\n",
       "      <td>1.000000</td>\n",
       "      <td>0.324362</td>\n",
       "      <td>0.694926</td>\n",
       "      <td>0.570629</td>\n",
       "      <td>0.477908</td>\n",
       "      <td>0.324362</td>\n",
       "      <td>0.322254</td>\n",
       "      <td>0.743053</td>\n",
       "      <td>0.400756</td>\n",
       "      <td>0.427155</td>\n",
       "      <td>0.545185</td>\n",
       "      <td>0.456312</td>\n",
       "      <td>0.538597</td>\n",
       "    </tr>\n",
       "    <tr>\n",
       "      <td>Lifetime Post Consumptions</td>\n",
       "      <td>0.324362</td>\n",
       "      <td>1.000000</td>\n",
       "      <td>0.226081</td>\n",
       "      <td>0.676840</td>\n",
       "      <td>0.706666</td>\n",
       "      <td>1.000000</td>\n",
       "      <td>0.164813</td>\n",
       "      <td>0.355389</td>\n",
       "      <td>0.577262</td>\n",
       "      <td>0.261195</td>\n",
       "      <td>0.235634</td>\n",
       "      <td>0.201300</td>\n",
       "      <td>0.238082</td>\n",
       "    </tr>\n",
       "    <tr>\n",
       "      <td>Lifetime Post Total Impressions</td>\n",
       "      <td>0.694926</td>\n",
       "      <td>0.226081</td>\n",
       "      <td>1.000000</td>\n",
       "      <td>0.368553</td>\n",
       "      <td>0.315201</td>\n",
       "      <td>0.226081</td>\n",
       "      <td>0.850787</td>\n",
       "      <td>0.651933</td>\n",
       "      <td>0.323843</td>\n",
       "      <td>0.316612</td>\n",
       "      <td>0.345091</td>\n",
       "      <td>0.286829</td>\n",
       "      <td>0.343358</td>\n",
       "    </tr>\n",
       "    <tr>\n",
       "      <td>Lifetime Engaged Users</td>\n",
       "      <td>0.570629</td>\n",
       "      <td>0.676840</td>\n",
       "      <td>0.368553</td>\n",
       "      <td>1.000000</td>\n",
       "      <td>0.968213</td>\n",
       "      <td>0.676840</td>\n",
       "      <td>0.260346</td>\n",
       "      <td>0.612080</td>\n",
       "      <td>0.839279</td>\n",
       "      <td>0.505806</td>\n",
       "      <td>0.569565</td>\n",
       "      <td>0.531261</td>\n",
       "      <td>0.572159</td>\n",
       "    </tr>\n",
       "    <tr>\n",
       "      <td>Lifetime Post Consumers</td>\n",
       "      <td>0.477908</td>\n",
       "      <td>0.706666</td>\n",
       "      <td>0.315201</td>\n",
       "      <td>0.968213</td>\n",
       "      <td>1.000000</td>\n",
       "      <td>0.706666</td>\n",
       "      <td>0.222941</td>\n",
       "      <td>0.503847</td>\n",
       "      <td>0.813510</td>\n",
       "      <td>0.334621</td>\n",
       "      <td>0.349152</td>\n",
       "      <td>0.343048</td>\n",
       "      <td>0.354502</td>\n",
       "    </tr>\n",
       "    <tr>\n",
       "      <td>Lifetime Post Consumptions</td>\n",
       "      <td>0.324362</td>\n",
       "      <td>1.000000</td>\n",
       "      <td>0.226081</td>\n",
       "      <td>0.676840</td>\n",
       "      <td>0.706666</td>\n",
       "      <td>1.000000</td>\n",
       "      <td>0.164813</td>\n",
       "      <td>0.355389</td>\n",
       "      <td>0.577262</td>\n",
       "      <td>0.261195</td>\n",
       "      <td>0.235634</td>\n",
       "      <td>0.201300</td>\n",
       "      <td>0.238082</td>\n",
       "    </tr>\n",
       "    <tr>\n",
       "      <td>Lifetime Post Impressions by people who have liked your Page</td>\n",
       "      <td>0.322254</td>\n",
       "      <td>0.164813</td>\n",
       "      <td>0.850787</td>\n",
       "      <td>0.260346</td>\n",
       "      <td>0.222941</td>\n",
       "      <td>0.164813</td>\n",
       "      <td>1.000000</td>\n",
       "      <td>0.584225</td>\n",
       "      <td>0.309800</td>\n",
       "      <td>0.242484</td>\n",
       "      <td>0.253129</td>\n",
       "      <td>0.189361</td>\n",
       "      <td>0.250083</td>\n",
       "    </tr>\n",
       "    <tr>\n",
       "      <td>Lifetime Post reach by people who like your Page</td>\n",
       "      <td>0.743053</td>\n",
       "      <td>0.355389</td>\n",
       "      <td>0.651933</td>\n",
       "      <td>0.612080</td>\n",
       "      <td>0.503847</td>\n",
       "      <td>0.355389</td>\n",
       "      <td>0.584225</td>\n",
       "      <td>1.000000</td>\n",
       "      <td>0.648701</td>\n",
       "      <td>0.472351</td>\n",
       "      <td>0.631524</td>\n",
       "      <td>0.486661</td>\n",
       "      <td>0.617929</td>\n",
       "    </tr>\n",
       "    <tr>\n",
       "      <td>Lifetime People who have liked your Page and engaged with your post</td>\n",
       "      <td>0.400756</td>\n",
       "      <td>0.577262</td>\n",
       "      <td>0.323843</td>\n",
       "      <td>0.839279</td>\n",
       "      <td>0.813510</td>\n",
       "      <td>0.577262</td>\n",
       "      <td>0.309800</td>\n",
       "      <td>0.648701</td>\n",
       "      <td>1.000000</td>\n",
       "      <td>0.425945</td>\n",
       "      <td>0.493110</td>\n",
       "      <td>0.439368</td>\n",
       "      <td>0.492570</td>\n",
       "    </tr>\n",
       "    <tr>\n",
       "      <td>comment</td>\n",
       "      <td>0.427155</td>\n",
       "      <td>0.261195</td>\n",
       "      <td>0.316612</td>\n",
       "      <td>0.505806</td>\n",
       "      <td>0.334621</td>\n",
       "      <td>0.261195</td>\n",
       "      <td>0.242484</td>\n",
       "      <td>0.472351</td>\n",
       "      <td>0.425945</td>\n",
       "      <td>1.000000</td>\n",
       "      <td>0.837871</td>\n",
       "      <td>0.868337</td>\n",
       "      <td>0.864944</td>\n",
       "    </tr>\n",
       "    <tr>\n",
       "      <td>like</td>\n",
       "      <td>0.545185</td>\n",
       "      <td>0.235634</td>\n",
       "      <td>0.345091</td>\n",
       "      <td>0.569565</td>\n",
       "      <td>0.349152</td>\n",
       "      <td>0.235634</td>\n",
       "      <td>0.253129</td>\n",
       "      <td>0.631524</td>\n",
       "      <td>0.493110</td>\n",
       "      <td>0.837871</td>\n",
       "      <td>1.000000</td>\n",
       "      <td>0.904028</td>\n",
       "      <td>0.997705</td>\n",
       "    </tr>\n",
       "    <tr>\n",
       "      <td>share</td>\n",
       "      <td>0.456312</td>\n",
       "      <td>0.201300</td>\n",
       "      <td>0.286829</td>\n",
       "      <td>0.531261</td>\n",
       "      <td>0.343048</td>\n",
       "      <td>0.201300</td>\n",
       "      <td>0.189361</td>\n",
       "      <td>0.486661</td>\n",
       "      <td>0.439368</td>\n",
       "      <td>0.868337</td>\n",
       "      <td>0.904028</td>\n",
       "      <td>1.000000</td>\n",
       "      <td>0.928557</td>\n",
       "    </tr>\n",
       "    <tr>\n",
       "      <td>Total Interactions</td>\n",
       "      <td>0.538597</td>\n",
       "      <td>0.238082</td>\n",
       "      <td>0.343358</td>\n",
       "      <td>0.572159</td>\n",
       "      <td>0.354502</td>\n",
       "      <td>0.238082</td>\n",
       "      <td>0.250083</td>\n",
       "      <td>0.617929</td>\n",
       "      <td>0.492570</td>\n",
       "      <td>0.864944</td>\n",
       "      <td>0.997705</td>\n",
       "      <td>0.928557</td>\n",
       "      <td>1.000000</td>\n",
       "    </tr>\n",
       "  </tbody>\n",
       "</table>\n",
       "</div>"
      ],
      "text/plain": [
       "                                                    Lifetime Post Total Reach  \\\n",
       "Lifetime Post Total Reach                                            1.000000   \n",
       "Lifetime Post Consumptions                                           0.324362   \n",
       "Lifetime Post Total Impressions                                      0.694926   \n",
       "Lifetime Engaged Users                                               0.570629   \n",
       "Lifetime Post Consumers                                              0.477908   \n",
       "Lifetime Post Consumptions                                           0.324362   \n",
       "Lifetime Post Impressions by people who have li...                   0.322254   \n",
       "Lifetime Post reach by people who like your Page                     0.743053   \n",
       "Lifetime People who have liked your Page and en...                   0.400756   \n",
       "comment                                                              0.427155   \n",
       "like                                                                 0.545185   \n",
       "share                                                                0.456312   \n",
       "Total Interactions                                                   0.538597   \n",
       "\n",
       "                                                    Lifetime Post Consumptions  \\\n",
       "Lifetime Post Total Reach                                             0.324362   \n",
       "Lifetime Post Consumptions                                            1.000000   \n",
       "Lifetime Post Total Impressions                                       0.226081   \n",
       "Lifetime Engaged Users                                                0.676840   \n",
       "Lifetime Post Consumers                                               0.706666   \n",
       "Lifetime Post Consumptions                                            1.000000   \n",
       "Lifetime Post Impressions by people who have li...                    0.164813   \n",
       "Lifetime Post reach by people who like your Page                      0.355389   \n",
       "Lifetime People who have liked your Page and en...                    0.577262   \n",
       "comment                                                               0.261195   \n",
       "like                                                                  0.235634   \n",
       "share                                                                 0.201300   \n",
       "Total Interactions                                                    0.238082   \n",
       "\n",
       "                                                    Lifetime Post Total Impressions  \\\n",
       "Lifetime Post Total Reach                                                  0.694926   \n",
       "Lifetime Post Consumptions                                                 0.226081   \n",
       "Lifetime Post Total Impressions                                            1.000000   \n",
       "Lifetime Engaged Users                                                     0.368553   \n",
       "Lifetime Post Consumers                                                    0.315201   \n",
       "Lifetime Post Consumptions                                                 0.226081   \n",
       "Lifetime Post Impressions by people who have li...                         0.850787   \n",
       "Lifetime Post reach by people who like your Page                           0.651933   \n",
       "Lifetime People who have liked your Page and en...                         0.323843   \n",
       "comment                                                                    0.316612   \n",
       "like                                                                       0.345091   \n",
       "share                                                                      0.286829   \n",
       "Total Interactions                                                         0.343358   \n",
       "\n",
       "                                                    Lifetime Engaged Users  \\\n",
       "Lifetime Post Total Reach                                         0.570629   \n",
       "Lifetime Post Consumptions                                        0.676840   \n",
       "Lifetime Post Total Impressions                                   0.368553   \n",
       "Lifetime Engaged Users                                            1.000000   \n",
       "Lifetime Post Consumers                                           0.968213   \n",
       "Lifetime Post Consumptions                                        0.676840   \n",
       "Lifetime Post Impressions by people who have li...                0.260346   \n",
       "Lifetime Post reach by people who like your Page                  0.612080   \n",
       "Lifetime People who have liked your Page and en...                0.839279   \n",
       "comment                                                           0.505806   \n",
       "like                                                              0.569565   \n",
       "share                                                             0.531261   \n",
       "Total Interactions                                                0.572159   \n",
       "\n",
       "                                                    Lifetime Post Consumers  \\\n",
       "Lifetime Post Total Reach                                          0.477908   \n",
       "Lifetime Post Consumptions                                         0.706666   \n",
       "Lifetime Post Total Impressions                                    0.315201   \n",
       "Lifetime Engaged Users                                             0.968213   \n",
       "Lifetime Post Consumers                                            1.000000   \n",
       "Lifetime Post Consumptions                                         0.706666   \n",
       "Lifetime Post Impressions by people who have li...                 0.222941   \n",
       "Lifetime Post reach by people who like your Page                   0.503847   \n",
       "Lifetime People who have liked your Page and en...                 0.813510   \n",
       "comment                                                            0.334621   \n",
       "like                                                               0.349152   \n",
       "share                                                              0.343048   \n",
       "Total Interactions                                                 0.354502   \n",
       "\n",
       "                                                    Lifetime Post Consumptions  \\\n",
       "Lifetime Post Total Reach                                             0.324362   \n",
       "Lifetime Post Consumptions                                            1.000000   \n",
       "Lifetime Post Total Impressions                                       0.226081   \n",
       "Lifetime Engaged Users                                                0.676840   \n",
       "Lifetime Post Consumers                                               0.706666   \n",
       "Lifetime Post Consumptions                                            1.000000   \n",
       "Lifetime Post Impressions by people who have li...                    0.164813   \n",
       "Lifetime Post reach by people who like your Page                      0.355389   \n",
       "Lifetime People who have liked your Page and en...                    0.577262   \n",
       "comment                                                               0.261195   \n",
       "like                                                                  0.235634   \n",
       "share                                                                 0.201300   \n",
       "Total Interactions                                                    0.238082   \n",
       "\n",
       "                                                    Lifetime Post Impressions by people who have liked your Page  \\\n",
       "Lifetime Post Total Reach                                                                    0.322254              \n",
       "Lifetime Post Consumptions                                                                   0.164813              \n",
       "Lifetime Post Total Impressions                                                              0.850787              \n",
       "Lifetime Engaged Users                                                                       0.260346              \n",
       "Lifetime Post Consumers                                                                      0.222941              \n",
       "Lifetime Post Consumptions                                                                   0.164813              \n",
       "Lifetime Post Impressions by people who have li...                                           1.000000              \n",
       "Lifetime Post reach by people who like your Page                                             0.584225              \n",
       "Lifetime People who have liked your Page and en...                                           0.309800              \n",
       "comment                                                                                      0.242484              \n",
       "like                                                                                         0.253129              \n",
       "share                                                                                        0.189361              \n",
       "Total Interactions                                                                           0.250083              \n",
       "\n",
       "                                                    Lifetime Post reach by people who like your Page  \\\n",
       "Lifetime Post Total Reach                                                                   0.743053   \n",
       "Lifetime Post Consumptions                                                                  0.355389   \n",
       "Lifetime Post Total Impressions                                                             0.651933   \n",
       "Lifetime Engaged Users                                                                      0.612080   \n",
       "Lifetime Post Consumers                                                                     0.503847   \n",
       "Lifetime Post Consumptions                                                                  0.355389   \n",
       "Lifetime Post Impressions by people who have li...                                          0.584225   \n",
       "Lifetime Post reach by people who like your Page                                            1.000000   \n",
       "Lifetime People who have liked your Page and en...                                          0.648701   \n",
       "comment                                                                                     0.472351   \n",
       "like                                                                                        0.631524   \n",
       "share                                                                                       0.486661   \n",
       "Total Interactions                                                                          0.617929   \n",
       "\n",
       "                                                    Lifetime People who have liked your Page and engaged with your post  \\\n",
       "Lifetime Post Total Reach                                                                    0.400756                     \n",
       "Lifetime Post Consumptions                                                                   0.577262                     \n",
       "Lifetime Post Total Impressions                                                              0.323843                     \n",
       "Lifetime Engaged Users                                                                       0.839279                     \n",
       "Lifetime Post Consumers                                                                      0.813510                     \n",
       "Lifetime Post Consumptions                                                                   0.577262                     \n",
       "Lifetime Post Impressions by people who have li...                                           0.309800                     \n",
       "Lifetime Post reach by people who like your Page                                             0.648701                     \n",
       "Lifetime People who have liked your Page and en...                                           1.000000                     \n",
       "comment                                                                                      0.425945                     \n",
       "like                                                                                         0.493110                     \n",
       "share                                                                                        0.439368                     \n",
       "Total Interactions                                                                           0.492570                     \n",
       "\n",
       "                                                     comment      like  \\\n",
       "Lifetime Post Total Reach                           0.427155  0.545185   \n",
       "Lifetime Post Consumptions                          0.261195  0.235634   \n",
       "Lifetime Post Total Impressions                     0.316612  0.345091   \n",
       "Lifetime Engaged Users                              0.505806  0.569565   \n",
       "Lifetime Post Consumers                             0.334621  0.349152   \n",
       "Lifetime Post Consumptions                          0.261195  0.235634   \n",
       "Lifetime Post Impressions by people who have li...  0.242484  0.253129   \n",
       "Lifetime Post reach by people who like your Page    0.472351  0.631524   \n",
       "Lifetime People who have liked your Page and en...  0.425945  0.493110   \n",
       "comment                                             1.000000  0.837871   \n",
       "like                                                0.837871  1.000000   \n",
       "share                                               0.868337  0.904028   \n",
       "Total Interactions                                  0.864944  0.997705   \n",
       "\n",
       "                                                       share  \\\n",
       "Lifetime Post Total Reach                           0.456312   \n",
       "Lifetime Post Consumptions                          0.201300   \n",
       "Lifetime Post Total Impressions                     0.286829   \n",
       "Lifetime Engaged Users                              0.531261   \n",
       "Lifetime Post Consumers                             0.343048   \n",
       "Lifetime Post Consumptions                          0.201300   \n",
       "Lifetime Post Impressions by people who have li...  0.189361   \n",
       "Lifetime Post reach by people who like your Page    0.486661   \n",
       "Lifetime People who have liked your Page and en...  0.439368   \n",
       "comment                                             0.868337   \n",
       "like                                                0.904028   \n",
       "share                                               1.000000   \n",
       "Total Interactions                                  0.928557   \n",
       "\n",
       "                                                    Total Interactions  \n",
       "Lifetime Post Total Reach                                     0.538597  \n",
       "Lifetime Post Consumptions                                    0.238082  \n",
       "Lifetime Post Total Impressions                               0.343358  \n",
       "Lifetime Engaged Users                                        0.572159  \n",
       "Lifetime Post Consumers                                       0.354502  \n",
       "Lifetime Post Consumptions                                    0.238082  \n",
       "Lifetime Post Impressions by people who have li...            0.250083  \n",
       "Lifetime Post reach by people who like your Page              0.617929  \n",
       "Lifetime People who have liked your Page and en...            0.492570  \n",
       "comment                                                       0.864944  \n",
       "like                                                          0.997705  \n",
       "share                                                         0.928557  \n",
       "Total Interactions                                            1.000000  "
      ]
     },
     "execution_count": 135,
     "metadata": {},
     "output_type": "execute_result"
    }
   ],
   "source": [
    "facebook[['Lifetime Post Total Reach',  'Lifetime Post Consumptions','Lifetime Post Total Impressions', 'Lifetime Engaged Users',\n",
    "       'Lifetime Post Consumers', 'Lifetime Post Consumptions',\n",
    "       'Lifetime Post Impressions by people who have liked your Page',\n",
    "       'Lifetime Post reach by people who like your Page',\n",
    "       'Lifetime People who have liked your Page and engaged with your post',\n",
    "       'comment', 'like', 'share', 'Total Interactions' ]].corr()"
   ]
  },
  {
   "cell_type": "code",
   "execution_count": 134,
   "metadata": {},
   "outputs": [
    {
     "data": {
      "text/plain": [
       "Index(['Page total likes', 'Type', 'Category', 'Post Month', 'Post Weekday',\n",
       "       'Post Hour', 'Paid', 'Lifetime Post Total Reach',\n",
       "       'Lifetime Post Total Impressions', 'Lifetime Engaged Users',\n",
       "       'Lifetime Post Consumers', 'Lifetime Post Consumptions',\n",
       "       'Lifetime Post Impressions by people who have liked your Page',\n",
       "       'Lifetime Post reach by people who like your Page',\n",
       "       'Lifetime People who have liked your Page and engaged with your post',\n",
       "       'comment', 'like', 'share', 'Total Interactions'],\n",
       "      dtype='object')"
      ]
     },
     "execution_count": 134,
     "metadata": {},
     "output_type": "execute_result"
    }
   ],
   "source": [
    "facebook.columns"
   ]
  },
  {
   "cell_type": "code",
   "execution_count": null,
   "metadata": {},
   "outputs": [],
   "source": []
  },
  {
   "cell_type": "code",
   "execution_count": 73,
   "metadata": {},
   "outputs": [
    {
     "data": {
      "text/plain": [
       "Index(['Page total likes', 'Type', 'Category', 'Post Month', 'Post Weekday',\n",
       "       'Post Hour', 'Paid', 'Lifetime Post Total Reach',\n",
       "       'Lifetime Post Total Impressions', 'Lifetime Engaged Users',\n",
       "       'Lifetime Post Consumers', 'Lifetime Post Consumptions',\n",
       "       'Lifetime Post Impressions by people who have liked your Page',\n",
       "       'Lifetime Post reach by people who like your Page',\n",
       "       'Lifetime People who have liked your Page and engaged with your post',\n",
       "       'comment', 'like', 'share', 'Total Interactions'],\n",
       "      dtype='object')"
      ]
     },
     "execution_count": 73,
     "metadata": {},
     "output_type": "execute_result"
    }
   ],
   "source": [
    "facebook.columns"
   ]
  },
  {
   "cell_type": "code",
   "execution_count": 46,
   "metadata": {},
   "outputs": [
    {
     "data": {
      "text/plain": [
       "<matplotlib.axes._subplots.AxesSubplot at 0x1afd6d91c8>"
      ]
     },
     "execution_count": 46,
     "metadata": {},
     "output_type": "execute_result"
    },
    {
     "data": {
      "image/png": "[encoded data removed]",
      "text/plain": [
       "<Figure size 432x288 with 1 Axes>"
      ]
     },
     "metadata": {
      "needs_background": "light"
     },
     "output_type": "display_data"
    }
   ],
   "source": [
    "sns.scatterplot('Lifetime Post Total Reach',  'Lifetime Post Consumptions', data=facebook)"
   ]
  },
  {
   "cell_type": "code",
   "execution_count": 48,
   "metadata": {},
   "outputs": [
    {
     "data": {
      "text/plain": [
       "count      500.000000\n",
       "mean      1415.130000\n",
       "std       2000.594118\n",
       "min          9.000000\n",
       "25%        509.250000\n",
       "50%        851.000000\n",
       "75%       1463.000000\n",
       "max      19779.000000\n",
       "Name: Lifetime Post Consumptions, dtype: float64"
      ]
     },
     "execution_count": 48,
     "metadata": {},
     "output_type": "execute_result"
    }
   ],
   "source": [
    "    facebook['Lifetime Post Consumptions'].describe()"
   ]
  },
  {
   "cell_type": "code",
   "execution_count": null,
   "metadata": {},
   "outputs": [],
   "source": []
  },
  {
   "cell_type": "code",
   "execution_count": 180,
   "metadata": {},
   "outputs": [
    {
     "data": {
      "text/plain": [
       "([<matplotlib.axis.XTick at 0x1a892e8c08>,\n",
       "  <matplotlib.axis.XTick at 0x1a892e8308>,\n",
       "  <matplotlib.axis.XTick at 0x1a890c5548>,\n",
       "  <matplotlib.axis.XTick at 0x1a890c8b88>,\n",
       "  <matplotlib.axis.XTick at 0x1a890ad388>,\n",
       "  <matplotlib.axis.XTick at 0x1a890ada08>,\n",
       "  <matplotlib.axis.XTick at 0x1a890ad908>,\n",
       "  <matplotlib.axis.XTick at 0x1a890c8888>,\n",
       "  <matplotlib.axis.XTick at 0x1a892ef1c8>,\n",
       "  <matplotlib.axis.XTick at 0x1a890c5f48>,\n",
       "  <matplotlib.axis.XTick at 0x1a8a5bfd08>,\n",
       "  <matplotlib.axis.XTick at 0x1a8a5c3548>],\n",
       " <a list of 12 Text xticklabel objects>)"
      ]
     },
     "execution_count": 180,
     "metadata": {},
     "output_type": "execute_result"
    },
    {
     "data": {
      "image/png": "[encoded data removed]",
      "text/plain": [
       "<Figure size 432x288 with 1 Axes>"
      ]
     },
     "metadata": {
      "needs_background": "light"
     },
     "output_type": "display_data"
    }
   ],
   "source": [
    "months=['j','f','m','a','m','j','j','a','s','o','n','d']\n",
    "sns.lineplot('Post Month','Lifetime Post Consumptions', data=facebook, ci=False, hue='Type',estimator='mean')\n",
    "# plt.sticks(np.arange(1,12,1))\n",
    "plt.xticks(np.arange(0, 12, 1))\n",
    "\n"
   ]
  },
  {
   "cell_type": "code",
   "execution_count": 178,
   "metadata": {},
   "outputs": [
    {
     "data": {
      "text/plain": [
       "<matplotlib.axes._subplots.AxesSubplot at 0x1a88ff3d48>"
      ]
     },
     "execution_count": 178,
     "metadata": {},
     "output_type": "execute_result"
    },
    {
     "data": {
      "image/png": "[encoded data removed]",
      "text/plain": [
       "<Figure size 432x288 with 1 Axes>"
      ]
     },
     "metadata": {
      "needs_background": "light"
     },
     "output_type": "display_data"
    }
   ],
   "source": [
    "xtick=['J', 'F', 'M', 'A', 'M', 'J', 'J', 'A', 'S', 'O', 'N', 'D']\n",
    "sns.barplot('Category','Lifetime Post Consumptions', data=facebook, ci=False)\n",
    "# plt.xlabel('Post Month')"
   ]
  },
  {
   "cell_type": "code",
   "execution_count": 212,
   "metadata": {},
   "outputs": [
    {
     "data": {
      "image/png": "[encoded data removed]",
      "text/plain": [
       "<Figure size 864x432 with 1 Axes>"
      ]
     },
     "metadata": {},
     "output_type": "display_data"
    }
   ],
   "source": [
    "sns.set_context('poster')\n",
    "\n",
    "sns.barplot('Type','Lifetime Post Consumptions', data=facebook, ci=False, estimator=np.mean, saturation=0.9)\n",
    "# plt.title('Lifetime Post Consumption Per Type')\n",
    "plt.savefig(r'C:\\Users\\Jalal\\Desktop\\Programing\\wkdir\\git7\\INTRO-TO-DATA-ANALYSIS\\DATA\\Facebook_plot.jpg')\n",
    "\n",
    "\n",
    "# sns.despine()"
   ]
  },
  {
   "cell_type": "code",
   "execution_count": 204,
   "metadata": {},
   "outputs": [
    {
     "data": {
      "image/png": "[encoded data removed]",
      "text/plain": [
       "<Figure size 864x432 with 1 Axes>"
      ]
     },
     "metadata": {},
     "output_type": "display_data"
    }
   ],
   "source": [
    "sns.set(rc={'figure.figsize': (12,6)})\n",
    "sns.barplot('Post Month','Lifetime Post Consumptions', data=facebook, ci=False)\n",
    "plt.title('Lifetime Post Consumption Per Month')\n",
    "plt.savefig(r'C:\\Users\\Jalal\\Desktop\\Programing\\wkdir\\git7\\INTRO-TO-DATA-ANALYSIS\\DATA\\Facebook_plot1.jpg')\n"
   ]
  },
  {
   "cell_type": "code",
   "execution_count": 193,
   "metadata": {},
   "outputs": [],
   "source": [
    "# sns.barplot('Paid','Lifetime Post Consumptions', data=facebook, ci=False)\n"
   ]
  },
  {
   "cell_type": "code",
   "execution_count": 192,
   "metadata": {},
   "outputs": [
    {
     "data": {
      "text/html": [
       "<div>\n",
       "<style scoped>\n",
       "    .dataframe tbody tr th:only-of-type {\n",
       "        vertical-align: middle;\n",
       "    }\n",
       "\n",
       "    .dataframe tbody tr th {\n",
       "        vertical-align: top;\n",
       "    }\n",
       "\n",
       "    .dataframe thead th {\n",
       "        text-align: right;\n",
       "    }\n",
       "</style>\n",
       "<table border=\"1\" class=\"dataframe\">\n",
       "  <thead>\n",
       "    <tr style=\"text-align: right;\">\n",
       "      <th></th>\n",
       "      <th>mean</th>\n",
       "      <th>max</th>\n",
       "      <th>min</th>\n",
       "      <th>count</th>\n",
       "    </tr>\n",
       "    <tr>\n",
       "      <th>Paid</th>\n",
       "      <th></th>\n",
       "      <th></th>\n",
       "      <th></th>\n",
       "      <th></th>\n",
       "    </tr>\n",
       "  </thead>\n",
       "  <tbody>\n",
       "    <tr>\n",
       "      <td>0.0</td>\n",
       "      <td>1295.333333</td>\n",
       "      <td>14974</td>\n",
       "      <td>19</td>\n",
       "      <td>360</td>\n",
       "    </tr>\n",
       "    <tr>\n",
       "      <td>1.0</td>\n",
       "      <td>1730.230216</td>\n",
       "      <td>19779</td>\n",
       "      <td>9</td>\n",
       "      <td>139</td>\n",
       "    </tr>\n",
       "  </tbody>\n",
       "</table>\n",
       "</div>"
      ],
      "text/plain": [
       "             mean    max  min  count\n",
       "Paid                                \n",
       "0.0   1295.333333  14974   19    360\n",
       "1.0   1730.230216  19779    9    139"
      ]
     },
     "execution_count": 192,
     "metadata": {},
     "output_type": "execute_result"
    }
   ],
   "source": [
    "facebook.groupby('Paid')['Lifetime Post Consumptions'].agg(['mean', 'max','min', 'count'])"
   ]
  },
  {
   "cell_type": "code",
   "execution_count": 188,
   "metadata": {},
   "outputs": [
    {
     "data": {
      "text/plain": [
       "<matplotlib.axes._subplots.AxesSubplot at 0x1a8a9989c8>"
      ]
     },
     "execution_count": 188,
     "metadata": {},
     "output_type": "execute_result"
    },
    {
     "data": {
      "image/png": "[encoded data removed]",
      "text/plain": [
       "<Figure size 864x432 with 1 Axes>"
      ]
     },
     "metadata": {},
     "output_type": "display_data"
    }
   ],
   "source": [
    "# sns.barplot('Post Month','Total Interactions', data=facebook, ci=False)\n",
    "sns.countplot('Post Month', data=facebook)\n"
   ]
  },
  {
   "cell_type": "code",
   "execution_count": 181,
   "metadata": {},
   "outputs": [],
   "source": [
    "# sns.barplot('Post Month','Lifetime Post Consumptions',hue='Type', data=facebook, ci=False)\n",
    "# sns.barplot('Type', data=facebook)\n",
    "# list(plt.style.available)\n",
    "x_index=np.arange(len(facebook['Post Weekday']))\n",
    "# x_index"
   ]
  },
  {
   "cell_type": "code",
   "execution_count": 161,
   "metadata": {},
   "outputs": [
    {
     "data": {
      "text/plain": [
       "<matplotlib.axes._subplots.AxesSubplot at 0x1a89244588>"
      ]
     },
     "execution_count": 161,
     "metadata": {},
     "output_type": "execute_result"
    },
    {
     "data": {
      "image/png": "[encoded data removed]",
      "text/plain": [
       "<Figure size 432x288 with 1 Axes>"
      ]
     },
     "metadata": {
      "needs_background": "light"
     },
     "output_type": "display_data"
    }
   ],
   "source": [
    "days=['Sunday','Monday', 'Tuesday','Wednesday', 'Thursday', 'Friday', 'Saturday']\n",
    "\n",
    "sns.barplot('Post Weekday','Lifetime Post Consumptions', data=facebook, ci=False)\n",
    "# plt.xticks( ticks=facebook['Post Weekday'],labels=days, rotation =90)\n",
    "# plt.xlabel(days)\n",
    "# plt.xticks(np.arange(len(days)))\n"
   ]
  },
  {
   "cell_type": "code",
   "execution_count": 97,
   "metadata": {},
   "outputs": [
    {
     "data": {
      "text/plain": [
       "<matplotlib.axes._subplots.AxesSubplot at 0x1aff9b42c8>"
      ]
     },
     "execution_count": 97,
     "metadata": {},
     "output_type": "execute_result"
    },
    {
     "data": {
      "image/png": "[encoded data removed]",
      "text/plain": [
       "<Figure size 432x288 with 1 Axes>"
      ]
     },
     "metadata": {
      "needs_background": "light"
     },
     "output_type": "display_data"
    }
   ],
   "source": [
    "sns.distplot(facebook['Lifetime Post Consumptions'], kde=False)\n"
   ]
  },
  {
   "cell_type": "code",
   "execution_count": 56,
   "metadata": {},
   "outputs": [
    {
     "data": {
      "text/plain": [
       "Index(['Page total likes', 'Type', 'Category', 'Post Month', 'Post Weekday',\n",
       "       'Post Hour', 'Paid', 'Lifetime Post Total Reach',\n",
       "       'Lifetime Post Total Impressions', 'Lifetime Engaged Users',\n",
       "       'Lifetime Post Consumers', 'Lifetime Post Consumptions',\n",
       "       'Lifetime Post Impressions by people who have liked your Page',\n",
       "       'Lifetime Post reach by people who like your Page',\n",
       "       'Lifetime People who have liked your Page and engaged with your post',\n",
       "       'comment', 'like', 'share', 'Total Interactions'],\n",
       "      dtype='object')"
      ]
     },
     "execution_count": 56,
     "metadata": {},
     "output_type": "execute_result"
    }
   ],
   "source": [
    "facebook.columns"
   ]
  },
  {
   "cell_type": "code",
   "execution_count": 62,
   "metadata": {},
   "outputs": [
    {
     "data": {
      "text/plain": [
       "array(['Photo', 'Status', 'Link', 'Video'], dtype=object)"
      ]
     },
     "execution_count": 62,
     "metadata": {},
     "output_type": "execute_result"
    }
   ],
   "source": [
    "facebook.Type.unique()"
   ]
  },
  {
   "cell_type": "code",
   "execution_count": 63,
   "metadata": {},
   "outputs": [
    {
     "data": {
      "text/plain": [
       "array([2, 3, 1], dtype=int64)"
      ]
     },
     "execution_count": 63,
     "metadata": {},
     "output_type": "execute_result"
    }
   ],
   "source": [
    "facebook.Category.unique()"
   ]
  },
  {
   "cell_type": "code",
   "execution_count": 88,
   "metadata": {},
   "outputs": [
    {
     "data": {
      "text/plain": [
       "Index(['Page total likes', 'Type', 'Category', 'Post Month', 'Post Weekday',\n",
       "       'Post Hour', 'Paid', 'Lifetime Post Total Reach',\n",
       "       'Lifetime Post Total Impressions', 'Lifetime Engaged Users',\n",
       "       'Lifetime Post Consumers', 'Lifetime Post Consumptions',\n",
       "       'Lifetime Post Impressions by people who have liked your Page',\n",
       "       'Lifetime Post reach by people who like your Page',\n",
       "       'Lifetime People who have liked your Page and engaged with your post',\n",
       "       'comment', 'like', 'share', 'Total Interactions'],\n",
       "      dtype='object')"
      ]
     },
     "execution_count": 88,
     "metadata": {},
     "output_type": "execute_result"
    }
   ],
   "source": [
    "facebook.columns"
   ]
  },
  {
   "cell_type": "code",
   "execution_count": null,
   "metadata": {},
   "outputs": [],
   "source": []
  },
  {
   "cell_type": "code",
   "execution_count": null,
   "metadata": {},
   "outputs": [],
   "source": []
  },
  {
   "cell_type": "code",
   "execution_count": null,
   "metadata": {},
   "outputs": [],
   "source": []
  },
  {
   "cell_type": "code",
   "execution_count": 196,
   "metadata": {},
   "outputs": [
    {
     "data": {
      "image/png": "[encoded data removed]",
      "text/plain": [
       "<Figure size 864x432 with 1 Axes>"
      ]
     },
     "metadata": {},
     "output_type": "display_data"
    }
   ],
   "source": [
    "ax = sns.scatterplot( y = 'Post Weekday', x = 'Lifetime Post Total Impressions', data = facebook, hue = 'Post Weekday', style = 'Post Weekday',\n",
    "                    size = 'Lifetime Post Total Impressions', sizes = (2, 25))\n"
   ]
  }
 ],
 "metadata": {
  "kernelspec": {
   "display_name": "Python 3",
   "language": "python",
   "name": "python3"
  },
  "language_info": {
   "codemirror_mode": {
    "name": "ipython",
    "version": 3
   },
   "file_extension": ".py",
   "mimetype": "text/x-python",
   "name": "python",
   "nbconvert_exporter": "python",
   "pygments_lexer": "ipython3",
   "version": "3.7.4"
  }
 },
 "nbformat": 4,
 "nbformat_minor": 4
}
